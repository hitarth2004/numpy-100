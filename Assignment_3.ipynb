{
  "nbformat": 4,
  "nbformat_minor": 0,
  "metadata": {
    "colab": {
      "provenance": [],
      "include_colab_link": true
    },
    "kernelspec": {
      "name": "python3",
      "display_name": "Python 3"
    },
    "language_info": {
      "name": "python"
    }
  },
  "cells": [
    {
      "cell_type": "markdown",
      "metadata": {
        "id": "view-in-github",
        "colab_type": "text"
      },
      "source": [
        "<a href=\"https://colab.research.google.com/github/hitarth2004/numpy-100/blob/master/Assignment_3.ipynb\" target=\"_parent\"><img src=\"https://colab.research.google.com/assets/colab-badge.svg\" alt=\"Open In Colab\"/></a>"
      ]
    },
    {
      "cell_type": "markdown",
      "source": [
        "#All matrix operations"
      ],
      "metadata": {
        "id": "5XNXL-P8I1Yg"
      }
    },
    {
      "cell_type": "code",
      "source": [
        "import numpy as np\n",
        "\n",
        "# Define two matrices\n",
        "A = np.array([[12,15,18], [13,24,15],[16,21,19]])\n",
        "B = np.array([[15,13,20], [18, 15,21],[11,13,23]])\n",
        "\n",
        "print(\"Addition of matrix :\\n\",np.add(A,B))\n",
        "\n",
        "print(\"\\n\\nSubstraction of matrix :\\n\",np.subtract(A,B))\n",
        "\n",
        "print(\"\\n\\nMulatiplication of matrix :\\n\",np.multiply(A,B))\n",
        "\n",
        "print(\"\\n\\Division of matrix :\\n\",np.divide(A,B))\n",
        "\n",
        "print(\"\\n\\nMod of matrix :\\n\",np.mod(A,B))\n",
        "\n",
        "print(\"\\n\\nTranspose of matrix :\\n\",np.transpose(A))\n",
        "\n",
        "print(\"\\n\\nDot product of matrix :\\n\",np.dot(A,B))"
      ],
      "metadata": {
        "colab": {
          "base_uri": "https://localhost:8080/"
        },
        "id": "TSjEAAv6I0rJ",
        "outputId": "d9256e53-7e83-4880-e1a2-da8f5da580c8"
      },
      "execution_count": null,
      "outputs": [
        {
          "output_type": "stream",
          "name": "stdout",
          "text": [
            "Addition of matrix :\n",
            " [[27 28 38]\n",
            " [31 39 36]\n",
            " [27 34 42]]\n",
            "\n",
            "\n",
            "Substraction of matrix :\n",
            " [[-3  2 -2]\n",
            " [-5  9 -6]\n",
            " [ 5  8 -4]]\n",
            "\n",
            "\n",
            "Mulatiplication of matrix :\n",
            " [[180 195 360]\n",
            " [234 360 315]\n",
            " [176 273 437]]\n",
            "\n",
            "\\Division of matrix :\n",
            " [[0.8        1.15384615 0.9       ]\n",
            " [0.72222222 1.6        0.71428571]\n",
            " [1.45454545 1.61538462 0.82608696]]\n",
            "\n",
            "\n",
            "Mod of matrix :\n",
            " [[12  2 18]\n",
            " [13  9 15]\n",
            " [ 5  8 19]]\n",
            "\n",
            "\n",
            "Transpose of matrix :\n",
            " [[12 13 16]\n",
            " [15 24 21]\n",
            " [18 15 19]]\n",
            "\n",
            "\n",
            "Dot product of matrix :\n",
            " [[ 648  615  969]\n",
            " [ 792  724 1109]\n",
            " [ 827  770 1198]]\n"
          ]
        }
      ]
    },
    {
      "cell_type": "markdown",
      "source": [
        "# Horizontal and vertical stacking of Numpy Arrays"
      ],
      "metadata": {
        "id": "AUv7p2avNBBH"
      }
    },
    {
      "cell_type": "code",
      "source": [
        "import numpy as np\n",
        "\n",
        "# Horizontal stacking\n",
        "print(\"Horizontal stacking:\")\n",
        "print(np.hstack((A, B)))\n",
        "\n",
        "# Vertical stacking\n",
        "print(\"\\n\\nVertical stacking:\")\n",
        "print(np.vstack((A,B)))\n"
      ],
      "metadata": {
        "colab": {
          "base_uri": "https://localhost:8080/"
        },
        "id": "_FL7OutBNLzW",
        "outputId": "849f989f-29ca-4d72-8756-1387e0272810"
      },
      "execution_count": null,
      "outputs": [
        {
          "output_type": "stream",
          "name": "stdout",
          "text": [
            "Horizontal stacking:\n",
            "[[12 15 18 15 13 20]\n",
            " [13 24 15 18 15 21]\n",
            " [16 21 19 11 13 23]]\n",
            "\n",
            "\n",
            "Vertical stacking:\n",
            "[[12 15 18]\n",
            " [13 24 15]\n",
            " [16 21 19]\n",
            " [15 13 20]\n",
            " [18 15 21]\n",
            " [11 13 23]]\n"
          ]
        }
      ]
    },
    {
      "cell_type": "markdown",
      "source": [
        "# Custom sequence generation\n"
      ],
      "metadata": {
        "id": "Kl3GmjukOmRV"
      }
    },
    {
      "cell_type": "code",
      "source": [
        "import numpy as np\n",
        "\n",
        "# Generate a sequence from 0 to 9 (exclusive)\n",
        "A = np.arange(10)\n",
        "\n",
        "# Generate 5 equally spaced values from 0 to 1\n",
        "B = np.linspace(0, 1, 5)\n",
        "\n",
        "# Generate 10 logarithmically spaced values from 1 to 100\n",
        "C = np.logspace(0, 2, 10)\n",
        "\n",
        "# Print the results\n",
        "print(\"arange:\")\n",
        "print(A)\n",
        "\n",
        "print(\"\\n\\nlinspace:\")\n",
        "print(B)\n",
        "\n",
        "print(\"\\n\\nlogspace:\")\n",
        "print(C)\n"
      ],
      "metadata": {
        "colab": {
          "base_uri": "https://localhost:8080/"
        },
        "id": "h2jaWRaHOpZ3",
        "outputId": "63c3f7da-d8b0-4e64-b741-62e61fb8c5dc"
      },
      "execution_count": null,
      "outputs": [
        {
          "output_type": "stream",
          "name": "stdout",
          "text": [
            "arange:\n",
            "[0 1 2 3 4 5 6 7 8 9]\n",
            "\n",
            "\n",
            "linspace:\n",
            "[0.   0.25 0.5  0.75 1.  ]\n",
            "\n",
            "\n",
            "logspace:\n",
            "[  1.           1.66810054   2.7825594    4.64158883   7.74263683\n",
            "  12.91549665  21.5443469   35.93813664  59.94842503 100.        ]\n"
          ]
        }
      ]
    },
    {
      "cell_type": "markdown",
      "source": [
        "# Arithmetic and Statistical Operations, Mathematical Operations, Bitwise Operators\n"
      ],
      "metadata": {
        "id": "MWNhaXqXQPuP"
      }
    },
    {
      "cell_type": "code",
      "source": [
        "import numpy as np\n",
        "\n",
        "# Arithmetic operations\n",
        "A = np.array([1, 2, 3, 4])\n",
        "B = np.array([5, 6, 7, 8])\n",
        "\n",
        "# Addition\n",
        "C = A + B\n",
        "\n",
        "# Subtraction\n",
        "D = A - B\n",
        "\n",
        "# Statistical operations\n",
        "E = np.mean(A)  # Mean\n",
        "F = np.max(B)  # Maximum value\n",
        "\n",
        "# Mathematical operations\n",
        "G = np.sqrt(A)  # Square root\n",
        "\n",
        "# Bitwise operators\n",
        "H = np.bitwise_and(A, B)  # Bitwise AND\n",
        "\n",
        "# Print the results\n",
        "print(\"Addition:\")\n",
        "print(C)\n",
        "\n",
        "print(\"\\n\\nSubtraction:\")\n",
        "print(D)\n",
        "\n",
        "print(\"\\n\\nMean:\")\n",
        "print(E)\n",
        "\n",
        "print(\"\\n\\nMaximum value:\")\n",
        "print(F)\n",
        "\n",
        "print(\"\\n\\nSquare root:\")\n",
        "print(G)\n",
        "\n",
        "print(\"\\n\\nBitwise AND:\")\n",
        "print(H)\n"
      ],
      "metadata": {
        "colab": {
          "base_uri": "https://localhost:8080/"
        },
        "id": "JR8Ek-K-QTUo",
        "outputId": "2bd733c7-3ae2-4a07-bf70-481695477e52"
      },
      "execution_count": null,
      "outputs": [
        {
          "output_type": "stream",
          "name": "stdout",
          "text": [
            "Addition:\n",
            "[ 6  8 10 12]\n",
            "\n",
            "\n",
            "Subtraction:\n",
            "[-4 -4 -4 -4]\n",
            "\n",
            "\n",
            "Mean:\n",
            "2.5\n",
            "\n",
            "\n",
            "Maximum value:\n",
            "8\n",
            "\n",
            "\n",
            "Square root:\n",
            "[1.         1.41421356 1.73205081 2.        ]\n",
            "\n",
            "\n",
            "Bitwise AND:\n",
            "[1 2 3 0]\n"
          ]
        }
      ]
    },
    {
      "cell_type": "markdown",
      "source": [
        "# Copying and viewing arrays"
      ],
      "metadata": {
        "id": "AbQHXfbAQqcK"
      }
    },
    {
      "cell_type": "code",
      "source": [
        "import numpy as np\n",
        "\n",
        "# Create an array\n",
        "A = np.array([1, 2, 3, 4, 5])\n",
        "\n",
        "# Copy the array\n",
        "B = np.copy(A)\n",
        "# Alternatively: B = A.copy()\n",
        "\n",
        "# Create a view of the array\n",
        "C = A[1:4]\n",
        "# Alternatively: C = A.view()\n",
        "\n",
        "# Print the results\n",
        "print(\"Copied array:\")\n",
        "print(B)\n",
        "\n",
        "print(\"\\n\\nView of the array:\")\n",
        "print(C)\n"
      ],
      "metadata": {
        "colab": {
          "base_uri": "https://localhost:8080/"
        },
        "id": "LhFYu2qUQvqz",
        "outputId": "d23f1de2-07d9-4bca-da40-69d930973a6b"
      },
      "execution_count": null,
      "outputs": [
        {
          "output_type": "stream",
          "name": "stdout",
          "text": [
            "Copied array:\n",
            "[1 2 3 4 5]\n",
            "\n",
            "\n",
            "View of the array:\n",
            "[2 3 4]\n"
          ]
        }
      ]
    },
    {
      "cell_type": "markdown",
      "source": [
        "# Data Stacking, Searching, Sorting, Counting, Broadcasting\n"
      ],
      "metadata": {
        "id": "6WeUuMJIIoDO"
      }
    },
    {
      "cell_type": "code",
      "execution_count": null,
      "metadata": {
        "colab": {
          "base_uri": "https://localhost:8080/"
        },
        "id": "dNlRDxKIQd2y",
        "outputId": "10bcc290-dfc2-423d-c586-fcaadf91a609"
      },
      "outputs": [
        {
          "output_type": "stream",
          "name": "stdout",
          "text": [
            "[['female' 'group B' \"bachelor's degree\" 'none' '72' '72' '74']\n",
            " ['female' 'group C' 'some college' 'completed' '69' '90' '88']\n",
            " ['female' 'group B' \"master's degree\" 'none' '90' '95' '93']\n",
            " ['male' 'group A' \"associate's degree\" 'none' '47' '57' '44']\n",
            " ['male' 'group C' 'some college' 'none' '76' '78' '75']\n",
            " ['female' 'group B' \"associate's degree\" 'none' '71' '83' '78']\n",
            " ['female' 'group B' 'some college' 'completed' '88' '95' '92']\n",
            " ['male' 'group B' 'some college' 'none' '40' '43' '39']\n",
            " ['male' 'group D' 'high school' 'completed' '64' '64' '67']\n",
            " ['female' 'group B' 'high school' 'none' '38' '60' '50']\n",
            " ['male' 'group C' \"associate's degree\" 'none' '58' '54' '52']\n",
            " ['male' 'group D' \"associate's degree\" 'none' '40' '52' '43']\n",
            " ['female' 'group B' 'high school' 'none' '65' '81' '73']\n",
            " ['male' 'group A' 'some college' 'completed' '78' '72' '70']\n",
            " ['female' 'group A' \"master's degree\" 'none' '50' '53' '58']\n",
            " ['female' 'group C' 'some high school' 'none' '69' '75' '78']\n",
            " ['male' 'group C' 'high school' 'none' '88' '89' '86']\n",
            " ['female' 'group B' 'some high school' 'none' '18' '32' '28']\n",
            " ['male' 'group C' \"master's degree\" 'completed' '46' '42' '46']\n",
            " ['female' 'group C' \"associate's degree\" 'none' '54' '58' '61']\n",
            " ['male' 'group D' 'high school' 'none' '66' '69' '63']\n",
            " ['female' 'group B' 'some college' 'completed' '65' '75' '70']\n",
            " ['male' 'group D' 'some college' 'none' '44' '54' '53']\n",
            " ['female' 'group C' 'some high school' 'none' '69' '73' '73']\n",
            " ['male' 'group D' \"bachelor's degree\" 'completed' '74' '71' '80']\n",
            " ['male' 'group A' \"master's degree\" 'none' '73' '74' '72']]\n"
          ]
        }
      ],
      "source": [
        "import numpy as np\n",
        "array3= np.loadtxt(\"stud2.csv\",delimiter=\",\",dtype=str,skiprows=1)\n",
        "print(array3)\n",
        "\n",
        "math = []\n",
        "reading = []\n",
        "writing = []\n",
        "group = []\n",
        "gender = []\n",
        "level = []\n",
        "course = []\n",
        "total = []\n",
        "\n",
        "for i in array3:\n",
        "  gender.append(i[0])\n",
        "  group.append(i[1])\n",
        "  level.append(i[2])\n",
        "  course.append(i[3])\n",
        "  math.append(int(i[4]))\n",
        "  reading.append(int(i[5]))\n",
        "  writing.append(int(i[5]))\n",
        "  total.append([int(i[4]),int(i[5]),int(i[6])])\n",
        "gender_array = np.array(gender)\n",
        "group_array = np.array(group)\n",
        "level_array = np.array(level)\n",
        "course_array= np.array(course)\n",
        "math_array = np.array(math)\n",
        "reading_array = np.array(reading)\n",
        "writing_array = np.array(writing)\n",
        "total_array = np.array(total)"
      ]
    },
    {
      "cell_type": "markdown",
      "source": [
        "\n",
        "\n",
        "---\n",
        "\n",
        "**1) Average score of female candadtes in maths**\n",
        "\n",
        "\n",
        "\n",
        "\n"
      ],
      "metadata": {
        "id": "wNVSd375X4Dz"
      }
    },
    {
      "cell_type": "code",
      "source": [
        "#Using Searching Method we can find index\n",
        "x = np.array(np.where(gender_array == 'female'))\n",
        "#using Average Method\n",
        "y= np.average(math_array[x])\n",
        "#using Sum/Len  method\n",
        "z = np.sum(math_array[x])/(x.size)\n",
        "\n",
        "print(\"Average score of feamale candidates is :\\n\",y,\"(Using Average Method)\\n\",z,\"(Using Sum/len methode)\" )"
      ],
      "metadata": {
        "colab": {
          "base_uri": "https://localhost:8080/"
        },
        "id": "btAMsHilZd3j",
        "outputId": "f45920d1-5c0d-430c-fef1-ff966b065a26"
      },
      "execution_count": null,
      "outputs": [
        {
          "output_type": "stream",
          "name": "stdout",
          "text": [
            "Average score of feamale candidates is :\n",
            " 62.92307692307692 (Using Average Method)\n",
            " 62.92307692307692 (Using Sum/len methode)\n"
          ]
        }
      ]
    },
    {
      "cell_type": "markdown",
      "source": [
        "\n",
        "\n",
        "---\n",
        "\n",
        "**Difference Between Highest Score in reading from Male and Female Candidate**\n",
        "\n"
      ],
      "metadata": {
        "id": "kVUm_Y-ifSwS"
      }
    },
    {
      "cell_type": "code",
      "source": [
        "#searching\n",
        "x = np.array(np.where(gender_array == 'male' ))\n",
        "\n",
        "y = np.array(np.where(gender_array == 'female'))\n",
        "# by using max function finding max and getting difference\n",
        "z= np.max(reading_array[y])-np.max(reading_array[x])\n",
        "\n",
        "print(\"Difference Between Highest Score in reading from Male and Female Candidate is :\",z)"
      ],
      "metadata": {
        "colab": {
          "base_uri": "https://localhost:8080/"
        },
        "id": "wHO78KQfSfu4",
        "outputId": "46b82e16-7d4d-4629-b2af-53713601b071"
      },
      "execution_count": null,
      "outputs": [
        {
          "output_type": "stream",
          "name": "stdout",
          "text": [
            "Difference Between Highest Score in reading from Male and Female Candidate is : 6\n"
          ]
        }
      ]
    },
    {
      "cell_type": "markdown",
      "source": [
        "\n",
        "\n",
        "---\n",
        "\n",
        "**Total marks of all students**"
      ],
      "metadata": {
        "id": "rjqJ57GnDaPB"
      }
    },
    {
      "cell_type": "code",
      "source": [
        "# by addition of arrays\n",
        "\n",
        "z = math_array + reading_array + writing_array\n",
        "\n",
        "print(\"Total marks of students are\",z)"
      ],
      "metadata": {
        "colab": {
          "base_uri": "https://localhost:8080/"
        },
        "id": "-nhu5kdrDTOG",
        "outputId": "564ec8ed-3163-43a9-99cd-7bbf80c1da9c"
      },
      "execution_count": null,
      "outputs": [
        {
          "output_type": "stream",
          "name": "stdout",
          "text": [
            "Total marks of students are [216 249 280 161 232 237 278 126 192 158 166 144 227 222 156 219 266  82\n",
            " 130 170 204 215 152 215 216 221]\n"
          ]
        }
      ]
    },
    {
      "cell_type": "markdown",
      "source": [
        "\n",
        "\n",
        "---\n",
        "**What is lowest and Highest average of all subject**\n"
      ],
      "metadata": {
        "id": "3A_moA-TEnGo"
      }
    },
    {
      "cell_type": "code",
      "source": [
        "# by using we creat array of average\n",
        "\n",
        "x = np.array([np.average(math_array),np.average(reading_array),np.average(writing_array)])\n",
        "\n",
        "print(\"Lowest average is\",np.min(x),\"of\",\"\\nHighest average=\",np.max(x))"
      ],
      "metadata": {
        "colab": {
          "base_uri": "https://localhost:8080/"
        },
        "id": "VsPLnFjsE6dU",
        "outputId": "0218d83d-bd44-473f-b7cb-47afcc556ffa"
      },
      "execution_count": null,
      "outputs": [
        {
          "output_type": "stream",
          "name": "stdout",
          "text": [
            "Lowest average is 62.0 of \n",
            "Highest average= 67.73076923076923\n"
          ]
        }
      ]
    },
    {
      "cell_type": "markdown",
      "source": [
        "\n",
        "\n",
        "---\n",
        "**What is median marks of every subject**\n"
      ],
      "metadata": {
        "id": "QTcwoaVUG4mN"
      }
    },
    {
      "cell_type": "code",
      "source": [
        "x = np.median(math_array)\n",
        "y = np.median(reading_array)\n",
        "z = np.median(writing_array)\n",
        "print(\"Median marks of math:\",x,\"\\nMedian marks of reading:\",y,\"\\nMedian marks of writing:\",z)"
      ],
      "metadata": {
        "colab": {
          "base_uri": "https://localhost:8080/"
        },
        "id": "oJZspCjYG4Is",
        "outputId": "401d2427-863a-4d9b-f28a-f376bbdd4736"
      },
      "execution_count": null,
      "outputs": [
        {
          "output_type": "stream",
          "name": "stdout",
          "text": [
            "Median marks of math: 65.5 \n",
            "Median marks of reading: 71.5 \n",
            "Median marks of writing: 71.5\n"
          ]
        }
      ]
    }
  ]
}